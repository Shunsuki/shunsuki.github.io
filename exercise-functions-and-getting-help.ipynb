{
 "cells": [
  {
   "cell_type": "markdown",
   "id": "7cbfe05f",
   "metadata": {
    "papermill": {
     "duration": 0.00503,
     "end_time": "2024-08-11T13:24:03.513226",
     "exception": false,
     "start_time": "2024-08-11T13:24:03.508196",
     "status": "completed"
    },
    "tags": []
   },
   "source": [
    "**This notebook is an exercise in the [Python](https://www.kaggle.com/learn/python) course.  You can reference the tutorial at [this link](https://www.kaggle.com/colinmorris/functions-and-getting-help).**\n",
    "\n",
    "---\n"
   ]
  },
  {
   "cell_type": "markdown",
   "id": "16718dec",
   "metadata": {
    "papermill": {
     "duration": 0.00427,
     "end_time": "2024-08-11T13:24:03.522372",
     "exception": false,
     "start_time": "2024-08-11T13:24:03.518102",
     "status": "completed"
    },
    "tags": []
   },
   "source": [
    "Functions are powerful. Try writing some yourself.\n",
    "\n",
    "As before, don't forget to run the setup code below before jumping into question 1."
   ]
  },
  {
   "cell_type": "code",
   "execution_count": 1,
   "id": "6a3b00dd",
   "metadata": {
    "_kg_hide-input": true,
    "_kg_hide-output": true,
    "execution": {
     "iopub.execute_input": "2024-08-11T13:24:03.533223Z",
     "iopub.status.busy": "2024-08-11T13:24:03.532824Z",
     "iopub.status.idle": "2024-08-11T13:24:04.395525Z",
     "shell.execute_reply": "2024-08-11T13:24:04.394266Z"
    },
    "papermill": {
     "duration": 0.870943,
     "end_time": "2024-08-11T13:24:04.397838",
     "exception": false,
     "start_time": "2024-08-11T13:24:03.526895",
     "status": "completed"
    },
    "tags": []
   },
   "outputs": [
    {
     "name": "stdout",
     "output_type": "stream",
     "text": [
      "Setup complete.\n"
     ]
    }
   ],
   "source": [
    "# SETUP. You don't need to worry for now about what this code does or how it works.\n",
    "from learntools.core import binder; binder.bind(globals())\n",
    "from learntools.python.ex2 import *\n",
    "print('Setup complete.')"
   ]
  },
  {
   "cell_type": "markdown",
   "id": "6ef76767",
   "metadata": {
    "papermill": {
     "duration": 0.004427,
     "end_time": "2024-08-11T13:24:04.407007",
     "exception": false,
     "start_time": "2024-08-11T13:24:04.402580",
     "status": "completed"
    },
    "tags": []
   },
   "source": [
    "# 1.\n",
    "\n",
    "Complete the body of the following function according to its docstring.\n",
    "\n",
    "HINT: Python has a built-in function `round`."
   ]
  },
  {
   "cell_type": "code",
   "execution_count": 2,
   "id": "19c3a11a",
   "metadata": {
    "execution": {
     "iopub.execute_input": "2024-08-11T13:24:04.418418Z",
     "iopub.status.busy": "2024-08-11T13:24:04.417859Z",
     "iopub.status.idle": "2024-08-11T13:24:04.429278Z",
     "shell.execute_reply": "2024-08-11T13:24:04.428131Z"
    },
    "papermill": {
     "duration": 0.019813,
     "end_time": "2024-08-11T13:24:04.431449",
     "exception": false,
     "start_time": "2024-08-11T13:24:04.411636",
     "status": "completed"
    },
    "tags": []
   },
   "outputs": [
    {
     "data": {
      "application/javascript": [
       "parent.postMessage({\"jupyterEvent\": \"custom.exercise_interaction\", \"data\": {\"outcomeType\": 1, \"valueTowardsCompletion\": 0.16666666666666666, \"interactionType\": 1, \"questionType\": 2, \"questionId\": \"1_RoundFunctionProblem\", \"learnToolsVersion\": \"0.3.4\", \"failureMessage\": \"\", \"exceptionClass\": \"\", \"trace\": \"\"}}, \"*\")"
      ],
      "text/plain": [
       "<IPython.core.display.Javascript object>"
      ]
     },
     "metadata": {},
     "output_type": "display_data"
    },
    {
     "data": {
      "text/markdown": [
       "<span style=\"color:#33cc33\">Correct</span>"
      ],
      "text/plain": [
       "Correct"
      ]
     },
     "metadata": {},
     "output_type": "display_data"
    }
   ],
   "source": [
    "def round_to_two_places(num):\n",
    "    \"\"\"Return the given number rounded to two decimal places. \n",
    "    \n",
    "    >>> round_to_two_places(3.14159)\n",
    "    3.14\n",
    "    \"\"\"\n",
    "    # Replace this body with your own code.\n",
    "    # (\"pass\" is a keyword that does literally nothing. We used it as a placeholder\n",
    "    # because after we begin a code block, Python requires at least one line of code)\n",
    "    pass\n",
    "    return round(num,2)\n",
    "# Check your answer\n",
    "q1.check()"
   ]
  },
  {
   "cell_type": "code",
   "execution_count": 3,
   "id": "dc494627",
   "metadata": {
    "execution": {
     "iopub.execute_input": "2024-08-11T13:24:04.442966Z",
     "iopub.status.busy": "2024-08-11T13:24:04.442584Z",
     "iopub.status.idle": "2024-08-11T13:24:04.454351Z",
     "shell.execute_reply": "2024-08-11T13:24:04.453293Z"
    },
    "papermill": {
     "duration": 0.020006,
     "end_time": "2024-08-11T13:24:04.456478",
     "exception": false,
     "start_time": "2024-08-11T13:24:04.436472",
     "status": "completed"
    },
    "tags": []
   },
   "outputs": [
    {
     "data": {
      "application/javascript": [
       "parent.postMessage({\"jupyterEvent\": \"custom.exercise_interaction\", \"data\": {\"interactionType\": 2, \"questionType\": 2, \"questionId\": \"1_RoundFunctionProblem\", \"learnToolsVersion\": \"0.3.4\", \"valueTowardsCompletion\": 0.0, \"failureMessage\": \"\", \"exceptionClass\": \"\", \"trace\": \"\", \"outcomeType\": 4}}, \"*\")"
      ],
      "text/plain": [
       "<IPython.core.display.Javascript object>"
      ]
     },
     "metadata": {},
     "output_type": "display_data"
    },
    {
     "data": {
      "text/markdown": [
       "<span style=\"color:#3366cc\">Hint:</span> Run `help(round)` in the console (or in a code cell) to learn more about the round function. You'll need to use the function's optional second argument."
      ],
      "text/plain": [
       "Hint: Run `help(round)` in the console (or in a code cell) to learn more about the round function. You'll need to use the function's optional second argument."
      ]
     },
     "metadata": {},
     "output_type": "display_data"
    },
    {
     "data": {
      "application/javascript": [
       "parent.postMessage({\"jupyterEvent\": \"custom.exercise_interaction\", \"data\": {\"interactionType\": 3, \"questionType\": 2, \"questionId\": \"1_RoundFunctionProblem\", \"learnToolsVersion\": \"0.3.4\", \"valueTowardsCompletion\": 0.0, \"failureMessage\": \"\", \"exceptionClass\": \"\", \"trace\": \"\", \"outcomeType\": 4}}, \"*\")"
      ],
      "text/plain": [
       "<IPython.core.display.Javascript object>"
      ]
     },
     "metadata": {},
     "output_type": "display_data"
    },
    {
     "data": {
      "text/markdown": [
       "<span style=\"color:#33cc99\">Solution:</span> \n",
       "```python\n",
       "return round(num, 2)\n",
       "```"
      ],
      "text/plain": [
       "Solution: \n",
       "```python\n",
       "return round(num, 2)\n",
       "```"
      ]
     },
     "metadata": {},
     "output_type": "display_data"
    }
   ],
   "source": [
    "# Uncomment the following for a hint\n",
    "q1.hint()\n",
    "# Or uncomment the following to peek at the solution\n",
    "q1.solution()"
   ]
  },
  {
   "cell_type": "markdown",
   "id": "a262fdf5",
   "metadata": {
    "papermill": {
     "duration": 0.005132,
     "end_time": "2024-08-11T13:24:04.467044",
     "exception": false,
     "start_time": "2024-08-11T13:24:04.461912",
     "status": "completed"
    },
    "tags": []
   },
   "source": [
    "# 2.\n",
    "The help for `round` says that `ndigits` (the second argument) may be negative.\n",
    "What do you think will happen when it is? Try some examples in the following cell."
   ]
  },
  {
   "cell_type": "code",
   "execution_count": 4,
   "id": "702594ff",
   "metadata": {
    "execution": {
     "iopub.execute_input": "2024-08-11T13:24:04.479447Z",
     "iopub.status.busy": "2024-08-11T13:24:04.479055Z",
     "iopub.status.idle": "2024-08-11T13:24:04.484438Z",
     "shell.execute_reply": "2024-08-11T13:24:04.483511Z"
    },
    "papermill": {
     "duration": 0.014096,
     "end_time": "2024-08-11T13:24:04.486539",
     "exception": false,
     "start_time": "2024-08-11T13:24:04.472443",
     "status": "completed"
    },
    "tags": []
   },
   "outputs": [
    {
     "name": "stdout",
     "output_type": "stream",
     "text": [
      "0.0\n"
     ]
    }
   ],
   "source": [
    "# Put your test code here\n",
    "print(round(3.14159,-1))"
   ]
  },
  {
   "cell_type": "markdown",
   "id": "f9fea744",
   "metadata": {
    "papermill": {
     "duration": 0.005093,
     "end_time": "2024-08-11T13:24:04.497006",
     "exception": false,
     "start_time": "2024-08-11T13:24:04.491913",
     "status": "completed"
    },
    "tags": []
   },
   "source": [
    "Can you think of a case where this would be useful?  Once you're ready, run the code cell below to see the answer and to receive credit for completing the problem."
   ]
  },
  {
   "cell_type": "code",
   "execution_count": 5,
   "id": "7e5408f8",
   "metadata": {
    "execution": {
     "iopub.execute_input": "2024-08-11T13:24:04.509667Z",
     "iopub.status.busy": "2024-08-11T13:24:04.509055Z",
     "iopub.status.idle": "2024-08-11T13:24:04.517085Z",
     "shell.execute_reply": "2024-08-11T13:24:04.516074Z"
    },
    "papermill": {
     "duration": 0.016755,
     "end_time": "2024-08-11T13:24:04.519174",
     "exception": false,
     "start_time": "2024-08-11T13:24:04.502419",
     "status": "completed"
    },
    "tags": []
   },
   "outputs": [
    {
     "data": {
      "application/javascript": [
       "parent.postMessage({\"jupyterEvent\": \"custom.exercise_interaction\", \"data\": {\"interactionType\": 3, \"questionType\": 4, \"questionId\": \"2_RoundNdigitsProblem\", \"learnToolsVersion\": \"0.3.4\", \"valueTowardsCompletion\": 0.0, \"failureMessage\": \"\", \"exceptionClass\": \"\", \"trace\": \"\", \"outcomeType\": 4}}, \"*\")"
      ],
      "text/plain": [
       "<IPython.core.display.Javascript object>"
      ]
     },
     "metadata": {},
     "output_type": "display_data"
    },
    {
     "data": {
      "text/markdown": [
       "<span style=\"color:#33cc99\">Solution:</span> As you've seen, `ndigits=-1` rounds to the nearest 10, `ndigits=-2` rounds to the nearest 100 and so on. Where might this be useful? Suppose we're dealing with large numbers:\n",
       "\n",
       "> The area of Finland is 338,424 km²  \n",
       "> The area of Greenland is 2,166,086 km²\n",
       "\n",
       "We probably don't care whether it's really 338,424, or 338,425, or 338,177. All those digits of accuracy are just distracting. We can chop them off by calling `round()` with `ndigits=-3`:\n",
       "\n",
       "> The area of Finland is 338,000 km²  \n",
       "> The area of Greenland is 2,166,000 km²\n",
       "\n",
       "(We'll talk about how we would get the commas later when we talk about string formatting :))\n"
      ],
      "text/plain": [
       "Solution: As you've seen, `ndigits=-1` rounds to the nearest 10, `ndigits=-2` rounds to the nearest 100 and so on. Where might this be useful? Suppose we're dealing with large numbers:\n",
       "\n",
       "> The area of Finland is 338,424 km²  \n",
       "> The area of Greenland is 2,166,086 km²\n",
       "\n",
       "We probably don't care whether it's really 338,424, or 338,425, or 338,177. All those digits of accuracy are just distracting. We can chop them off by calling `round()` with `ndigits=-3`:\n",
       "\n",
       "> The area of Finland is 338,000 km²  \n",
       "> The area of Greenland is 2,166,000 km²\n",
       "\n",
       "(We'll talk about how we would get the commas later when we talk about string formatting :))"
      ]
     },
     "metadata": {},
     "output_type": "display_data"
    }
   ],
   "source": [
    "# Check your answer (Run this code cell to receive credit!)\n",
    "q2.solution()"
   ]
  },
  {
   "cell_type": "markdown",
   "id": "7947d159",
   "metadata": {
    "papermill": {
     "duration": 0.005553,
     "end_time": "2024-08-11T13:24:04.530546",
     "exception": false,
     "start_time": "2024-08-11T13:24:04.524993",
     "status": "completed"
    },
    "tags": []
   },
   "source": [
    "# 3.\n",
    "\n",
    "In the previous exercise, the candy-sharing friends Alice, Bob and Carol tried to split candies evenly. For the sake of their friendship, any candies left over would be smashed. For example, if they collectively bring home 91 candies, they'll take 30 each and smash 1.\n",
    "\n",
    "Below is a simple function that will calculate the number of candies to smash for *any* number of total candies.\n",
    "\n",
    "Modify it so that it optionally takes a second argument representing the number of friends the candies are being split between. If no second argument is provided, it should assume 3 friends, as before.\n",
    "\n",
    "Update the docstring to reflect this new behaviour."
   ]
  },
  {
   "cell_type": "code",
   "execution_count": 6,
   "id": "2713d671",
   "metadata": {
    "execution": {
     "iopub.execute_input": "2024-08-11T13:24:04.544009Z",
     "iopub.status.busy": "2024-08-11T13:24:04.543233Z",
     "iopub.status.idle": "2024-08-11T13:24:04.552036Z",
     "shell.execute_reply": "2024-08-11T13:24:04.551040Z"
    },
    "papermill": {
     "duration": 0.017852,
     "end_time": "2024-08-11T13:24:04.554155",
     "exception": false,
     "start_time": "2024-08-11T13:24:04.536303",
     "status": "completed"
    },
    "tags": []
   },
   "outputs": [
    {
     "data": {
      "application/javascript": [
       "parent.postMessage({\"jupyterEvent\": \"custom.exercise_interaction\", \"data\": {\"outcomeType\": 1, \"valueTowardsCompletion\": 0.16666666666666666, \"interactionType\": 1, \"questionType\": 2, \"questionId\": \"3_CandySmashingFunctionProblem\", \"learnToolsVersion\": \"0.3.4\", \"failureMessage\": \"\", \"exceptionClass\": \"\", \"trace\": \"\"}}, \"*\")"
      ],
      "text/plain": [
       "<IPython.core.display.Javascript object>"
      ]
     },
     "metadata": {},
     "output_type": "display_data"
    },
    {
     "data": {
      "text/markdown": [
       "<span style=\"color:#33cc33\">Correct</span>"
      ],
      "text/plain": [
       "Correct"
      ]
     },
     "metadata": {},
     "output_type": "display_data"
    }
   ],
   "source": [
    "def to_smash(total_candies,num_friends=3):\n",
    "    \"\"\"Return the number of leftover candies that must be smashed after distributing\n",
    "    the given number of candies evenly between 3 friends.\n",
    "    \n",
    "    >>> to_smash(91)\n",
    "    1\n",
    "    \"\"\"\n",
    "    return total_candies % num_friends\n",
    "\n",
    "# Check your answer\n",
    "q3.check()"
   ]
  },
  {
   "cell_type": "code",
   "execution_count": 7,
   "id": "54066037",
   "metadata": {
    "execution": {
     "iopub.execute_input": "2024-08-11T13:24:04.567539Z",
     "iopub.status.busy": "2024-08-11T13:24:04.567192Z",
     "iopub.status.idle": "2024-08-11T13:24:04.574982Z",
     "shell.execute_reply": "2024-08-11T13:24:04.574012Z"
    },
    "papermill": {
     "duration": 0.01708,
     "end_time": "2024-08-11T13:24:04.577150",
     "exception": false,
     "start_time": "2024-08-11T13:24:04.560070",
     "status": "completed"
    },
    "tags": []
   },
   "outputs": [
    {
     "data": {
      "application/javascript": [
       "parent.postMessage({\"jupyterEvent\": \"custom.exercise_interaction\", \"data\": {\"interactionType\": 2, \"questionType\": 2, \"questionId\": \"3_CandySmashingFunctionProblem\", \"learnToolsVersion\": \"0.3.4\", \"valueTowardsCompletion\": 0.0, \"failureMessage\": \"\", \"exceptionClass\": \"\", \"trace\": \"\", \"outcomeType\": 4}}, \"*\")"
      ],
      "text/plain": [
       "<IPython.core.display.Javascript object>"
      ]
     },
     "metadata": {},
     "output_type": "display_data"
    },
    {
     "data": {
      "text/markdown": [
       "<span style=\"color:#3366cc\">Hint:</span> Refer to the section of the last tutorial notebook where we talked about default arguments"
      ],
      "text/plain": [
       "Hint: Refer to the section of the last tutorial notebook where we talked about default arguments"
      ]
     },
     "metadata": {},
     "output_type": "display_data"
    }
   ],
   "source": [
    "q3.hint()"
   ]
  },
  {
   "cell_type": "code",
   "execution_count": 8,
   "id": "7db2259f",
   "metadata": {
    "execution": {
     "iopub.execute_input": "2024-08-11T13:24:04.591628Z",
     "iopub.status.busy": "2024-08-11T13:24:04.590979Z",
     "iopub.status.idle": "2024-08-11T13:24:04.599318Z",
     "shell.execute_reply": "2024-08-11T13:24:04.598348Z"
    },
    "papermill": {
     "duration": 0.017785,
     "end_time": "2024-08-11T13:24:04.601321",
     "exception": false,
     "start_time": "2024-08-11T13:24:04.583536",
     "status": "completed"
    },
    "tags": []
   },
   "outputs": [
    {
     "data": {
      "application/javascript": [
       "parent.postMessage({\"jupyterEvent\": \"custom.exercise_interaction\", \"data\": {\"interactionType\": 3, \"questionType\": 2, \"questionId\": \"3_CandySmashingFunctionProblem\", \"learnToolsVersion\": \"0.3.4\", \"valueTowardsCompletion\": 0.0, \"failureMessage\": \"\", \"exceptionClass\": \"\", \"trace\": \"\", \"outcomeType\": 4}}, \"*\")"
      ],
      "text/plain": [
       "<IPython.core.display.Javascript object>"
      ]
     },
     "metadata": {},
     "output_type": "display_data"
    },
    {
     "data": {
      "text/markdown": [
       "<span style=\"color:#33cc99\">Solution:</span> \n",
       "```python\n",
       "def to_smash(total_candies, n_friends=3):\n",
       "    return total_candies % n_friends\n",
       "```"
      ],
      "text/plain": [
       "Solution: \n",
       "```python\n",
       "def to_smash(total_candies, n_friends=3):\n",
       "    return total_candies % n_friends\n",
       "```"
      ]
     },
     "metadata": {},
     "output_type": "display_data"
    }
   ],
   "source": [
    "q3.solution()"
   ]
  },
  {
   "cell_type": "markdown",
   "id": "e49ef2f5",
   "metadata": {
    "papermill": {
     "duration": 0.006424,
     "end_time": "2024-08-11T13:24:04.614249",
     "exception": false,
     "start_time": "2024-08-11T13:24:04.607825",
     "status": "completed"
    },
    "tags": []
   },
   "source": [
    "# 4. (Optional)\n",
    "\n",
    "It may not be fun, but reading and understanding error messages will be an important part of your Python career.\n",
    "\n",
    "Each code cell below contains some commented buggy code. For each cell...\n",
    "\n",
    "1. Read the code and predict what you think will happen when it's run.\n",
    "2. Then uncomment the code and run it to see what happens. (**Tip**: In the kernel editor, you can highlight several lines and press `ctrl`+`/` to toggle commenting.)\n",
    "3. Fix the code (so that it accomplishes its intended purpose without throwing an exception)\n",
    "\n",
    "<!-- TODO: should this be autochecked? Delta is probably pretty small. -->"
   ]
  },
  {
   "cell_type": "code",
   "execution_count": 9,
   "id": "82828f42",
   "metadata": {
    "execution": {
     "iopub.execute_input": "2024-08-11T13:24:04.629913Z",
     "iopub.status.busy": "2024-08-11T13:24:04.628998Z",
     "iopub.status.idle": "2024-08-11T13:24:04.634727Z",
     "shell.execute_reply": "2024-08-11T13:24:04.633696Z"
    },
    "papermill": {
     "duration": 0.016404,
     "end_time": "2024-08-11T13:24:04.637139",
     "exception": false,
     "start_time": "2024-08-11T13:24:04.620735",
     "status": "completed"
    },
    "tags": []
   },
   "outputs": [
    {
     "name": "stdout",
     "output_type": "stream",
     "text": [
      "10.0\n"
     ]
    }
   ],
   "source": [
    "# ruound_to_two_places(9.9999)\n",
    "def round_to_two_places(num):\n",
    "    \"\"\"Return the given number rounded to two decimal places. \n",
    "    \n",
    "    >>> round_to_two_places(9.9999)\n",
    "    10.0\n",
    "    \"\"\"\n",
    "    return round(num, 2)\n",
    "print(round_to_two_places(9.9999))\n"
   ]
  },
  {
   "cell_type": "code",
   "execution_count": 10,
   "id": "da7a8342",
   "metadata": {
    "execution": {
     "iopub.execute_input": "2024-08-11T13:24:04.652291Z",
     "iopub.status.busy": "2024-08-11T13:24:04.651591Z",
     "iopub.status.idle": "2024-08-11T13:24:04.656942Z",
     "shell.execute_reply": "2024-08-11T13:24:04.655976Z"
    },
    "papermill": {
     "duration": 0.015278,
     "end_time": "2024-08-11T13:24:04.659027",
     "exception": false,
     "start_time": "2024-08-11T13:24:04.643749",
     "status": "completed"
    },
    "tags": []
   },
   "outputs": [
    {
     "name": "stdout",
     "output_type": "stream",
     "text": [
      "5\n"
     ]
    }
   ],
   "source": [
    "# x = -10\n",
    "# y = 5\n",
    "# # Which of the two variables above has the smallest absolute value?\n",
    "# smallest_abs = min(abs(x, y))\n",
    "x = -10\n",
    "y = 5\n",
    "smallest_abs = min(abs(x), abs(y))\n",
    "\n",
    "print(smallest_abs)\n"
   ]
  },
  {
   "cell_type": "code",
   "execution_count": 11,
   "id": "771bf548",
   "metadata": {
    "execution": {
     "iopub.execute_input": "2024-08-11T13:24:04.673781Z",
     "iopub.status.busy": "2024-08-11T13:24:04.673440Z",
     "iopub.status.idle": "2024-08-11T13:24:04.679779Z",
     "shell.execute_reply": "2024-08-11T13:24:04.678686Z"
    },
    "papermill": {
     "duration": 0.016422,
     "end_time": "2024-08-11T13:24:04.682052",
     "exception": false,
     "start_time": "2024-08-11T13:24:04.665630",
     "status": "completed"
    },
    "tags": []
   },
   "outputs": [
    {
     "name": "stdout",
     "output_type": "stream",
     "text": [
      "5\n"
     ]
    }
   ],
   "source": [
    "# def f(x):\n",
    "#     y = abs(x)\n",
    "# return y\n",
    "\n",
    "# print(f(5))\n",
    "\n",
    "def f(x):\n",
    "    y = abs(x)\n",
    "    return y\n",
    "print(f(5))\n"
   ]
  },
  {
   "cell_type": "markdown",
   "id": "6ca4c391",
   "metadata": {
    "papermill": {
     "duration": 0.006642,
     "end_time": "2024-08-11T13:24:04.695551",
     "exception": false,
     "start_time": "2024-08-11T13:24:04.688909",
     "status": "completed"
    },
    "tags": []
   },
   "source": [
    "# Keep Going\n",
    "\n",
    "Nice job with the code. Next up, you'll learn about *conditionals*, which you'll need to **[write interesting programs](https://www.kaggle.com/colinmorris/booleans-and-conditionals)**. "
   ]
  },
  {
   "cell_type": "markdown",
   "id": "e3d95ddb",
   "metadata": {
    "papermill": {
     "duration": 0.006283,
     "end_time": "2024-08-11T13:24:04.708593",
     "exception": false,
     "start_time": "2024-08-11T13:24:04.702310",
     "status": "completed"
    },
    "tags": []
   },
   "source": [
    "---\n",
    "\n",
    "\n",
    "\n",
    "\n",
    "*Have questions or comments? Visit the [course discussion forum](https://www.kaggle.com/learn/python/discussion) to chat with other learners.*"
   ]
  }
 ],
 "metadata": {
  "kaggle": {
   "accelerator": "none",
   "dataSources": [],
   "isGpuEnabled": false,
   "isInternetEnabled": false,
   "language": "python",
   "sourceType": "notebook"
  },
  "kernelspec": {
   "display_name": "Python 3",
   "language": "python",
   "name": "python3"
  },
  "language_info": {
   "codemirror_mode": {
    "name": "ipython",
    "version": 3
   },
   "file_extension": ".py",
   "mimetype": "text/x-python",
   "name": "python",
   "nbconvert_exporter": "python",
   "pygments_lexer": "ipython3",
   "version": "3.10.13"
  },
  "learntools_metadata": {
   "lesson_index": 1,
   "type": "exercise"
  },
  "papermill": {
   "default_parameters": {},
   "duration": 4.389668,
   "end_time": "2024-08-11T13:24:05.134948",
   "environment_variables": {},
   "exception": null,
   "input_path": "__notebook__.ipynb",
   "output_path": "__notebook__.ipynb",
   "parameters": {},
   "start_time": "2024-08-11T13:24:00.745280",
   "version": "2.5.0"
  }
 },
 "nbformat": 4,
 "nbformat_minor": 5
}
